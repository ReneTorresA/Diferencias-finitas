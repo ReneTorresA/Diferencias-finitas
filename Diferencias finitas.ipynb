{
 "cells": [
  {
   "cell_type": "markdown",
   "id": "f728b8a8",
   "metadata": {},
   "source": [
    "# Conducción de calor 1D\n",
    "\n",
    "$$ \\frac{\\partial T(x,t)}{\\partial t}=\\alpha \\frac{\\partial^{2}T(x,t)}{\\partial x^{2}} $$\n",
    "\n",
    "## Método explícito de las diferencias finitas\n",
    "$$ \\frac{T_{i}^{ n+1}-T_{i}^{n}}{\\Delta t}=\\alpha \\frac{T_{i-1}^{n}-2T_{i}^{n}+T_{i+1}{n}}{(\\Delta x)^{2}} $$\n",
    "\n",
    "$$ T_{i}^{ n+1}=\\frac{\\alpha \\Delta t}{(\\Delta x)^{2}}(T_{i-1}^{i}-2T_{i}^{n}+T_{i+1}^{n})+T_{i}^{n} $$\n",
    "Tomando $$ r=\\frac{\\alpha \\Delta t}{(\\Delta x)^{2}} $$\n",
    "Queda finalmente:\n",
    "$$T_{i}^{ n+1}=rT_{i-1}^{n}+(1-2r)T_{i}^{n}+rT_{i+1}^{n}     (1)  $$\n",
    "\n",
    "<img src='conduccion1d.png'>\n",
    "\n",
    "### Condición inicial\n",
    "$$T(x,t_{o})=T_{o}$$\n",
    "### Condición de borde en x=0\n",
    "En X=0 $\\frac{\\partial T}{\\partial x}=0$ (Adiábatico)\n",
    "$$\\frac{\\partial T}{\\partial x}=0 \\Rightarrow \\frac{T_{o}^{n}-T_{-1}^{n}}{\\Delta x}=0\\Rightarrow T_{o}^{n}-T_{-1}^{n}=0$$\n",
    "Reemplazando queda:\n",
    "$$T_{o}^{n+1}=(1-r)T_{o}^{n}+rT_{1}^{n}$$ \n",
    "###  Condición de borde en x=L\n",
    "en x=L \n",
    "$$q_{cond}+q_{conv}=0$$\n",
    "\n",
    "$$-k\\frac{\\partial T}{\\partial x}=h(T-T_{\\infty })$$\n",
    "\n",
    "$$-k\\frac{T_{M+1}^{n}-T_{M-1}^{n}}{2\\Delta x}=h(T-T_{\\infty })$$\n",
    "\n",
    "$$T_{M+1}^{n}=\\frac{2\\Delta xh}{k}(T_{\\infty }-T)+T_{M-1}^{n} (1)$$ \n",
    "\n",
    "Haciendo T(M) en (1) queda:\n",
    "\n",
    "$$T_{M}^{n+1}=rT_{M-1}^{n}+(1-2r)T_{M}^{n}+r(\\frac{2\\Delta xh}{k}(T_{\\infty }-T)+T_{M-1}^{n})$$\n",
    "\n",
    "Desarrollando finalmente queda: \n",
    "\n",
    "$$T_{M}^{n+1}=2rT_{M-1}^{n}+(1-2r\\beta T_{M}^{n})+2r\\gamma$$\n",
    "\n",
    "Donde:\n",
    "\n",
    "$$\\beta=1+\\frac{h\\Delta x}{k}, \\gamma=\\frac{\\Delta x h T_{\\infty}}{k} $$\n",
    "\n",
    "### Criterio de estabilidad:\n",
    "$$r<0.5$$"
   ]
  },
  {
   "cell_type": "markdown",
   "id": "da5bebc3",
   "metadata": {},
   "source": [
    "## Programa"
   ]
  },
  {
   "cell_type": "code",
   "execution_count": 33,
   "id": "4e508853",
   "metadata": {},
   "outputs": [],
   "source": [
    "#Importaciones\n",
    "\n",
    "import numpy as np\n",
    "import matplotlib.pyplot as plt\n",
    "import matplotlib.animation as animation\n",
    "#%matplotlib notebook\n",
    "#%matplotlib inline\n",
    "#Datos del problema\n",
    "h=0.3\n",
    "L=1 #Largo de la barra\n",
    "dx=0.2 # Delta x (espacio entre nodos)\n",
    "dt=0.05 # Delta t (espaciado del tiempo)\n",
    "tmax = 10 # Tiempo máximo\n",
    "alpha = 0.2 #difusividad termica\n",
    "npos=L/dx #numero de nodos en i\n",
    "ntemp=tmax/dt #numero de \"nodos\" de tiempo\n",
    "k=0.6 #Conductividad termica del material\n",
    "Tamb=25 #Temperatura ambiente\n",
    "b=1+(dx*h)/k\n",
    "j=dx*h*Tamb/k"
   ]
  },
  {
   "cell_type": "code",
   "execution_count": 34,
   "id": "2babccdd",
   "metadata": {},
   "outputs": [],
   "source": [
    "r=(alpha*dt)/dx**2"
   ]
  },
  {
   "cell_type": "code",
   "execution_count": 35,
   "id": "b0dcef53",
   "metadata": {},
   "outputs": [
    {
     "data": {
      "text/plain": [
       "200.0"
      ]
     },
     "execution_count": 35,
     "metadata": {},
     "output_type": "execute_result"
    }
   ],
   "source": [
    "tmax/dt"
   ]
  },
  {
   "cell_type": "code",
   "execution_count": 36,
   "id": "5908e287",
   "metadata": {
    "scrolled": true
   },
   "outputs": [
    {
     "data": {
      "text/plain": [
       "0.25"
      ]
     },
     "execution_count": 36,
     "metadata": {},
     "output_type": "execute_result"
    }
   ],
   "source": [
    "r"
   ]
  },
  {
   "cell_type": "code",
   "execution_count": 37,
   "id": "cb459497",
   "metadata": {},
   "outputs": [],
   "source": [
    "#Vector que contiene los n tiempos\n",
    "temp=np.linspace(0,tmax,int(ntemp))\n",
    "#Vector que contiene las i posiciones\n",
    "pos=np.linspace(0,L,int(npos))\n",
    "    \n",
    "    "
   ]
  },
  {
   "cell_type": "code",
   "execution_count": 38,
   "id": "0bcac117",
   "metadata": {},
   "outputs": [],
   "source": [
    "# Creamos una matriz de 2x2 que contenga las las temperaturas en las columnas y en las filas contiene la variable tiempo\n",
    "T=np.zeros((int(ntemp),int(npos)))\n",
    "\n",
    "# Condiciones iniciales\n",
    "T[0,:]=100.0#temperatura 50 a lo largo de la barra, en el tiempo 0, Recordar: En python las posiciones comienzan de 0!!\n",
    "\n",
    "\n",
    "#Programa principal\n",
    "\n",
    "for n in range(len(T[:,1])-1):\n",
    "    for i in range(1,len(T[1,:])-1):\n",
    "\n",
    "        #condición de borde x=0 (aislación en i=0)\n",
    "        T[n+1,0]=(1-r)*T[n,0] + r*T[n,1]\n",
    "        #Iteraciones\n",
    "        \n",
    "        T[n+1,i]=r*T[n,i-1]+(1-2*r)*T[n,i]+r*T[n,i+1]\n",
    "           \n",
    "        #Condición de borde en x=L\n",
    "        \n",
    "        T[n+1,int(npos-1)]=2*r*T[n,int(npos-1)]+(1-2*r*b)*T[n,int(npos-1)]+2*r*j\n",
    "     \n",
    "        \n"
   ]
  },
  {
   "cell_type": "markdown",
   "id": "b0ba698c",
   "metadata": {},
   "source": [
    "### Resultados"
   ]
  },
  {
   "cell_type": "code",
   "execution_count": 39,
   "id": "911bd879",
   "metadata": {},
   "outputs": [],
   "source": [
    "#T"
   ]
  },
  {
   "cell_type": "code",
   "execution_count": 40,
   "id": "e9ae7fef",
   "metadata": {},
   "outputs": [
    {
     "data": {
      "text/plain": [
       "[<matplotlib.lines.Line2D at 0x14a9712f790>,\n",
       " <matplotlib.lines.Line2D at 0x14a9712f910>,\n",
       " <matplotlib.lines.Line2D at 0x14a9712fb50>,\n",
       " <matplotlib.lines.Line2D at 0x14a9712f7c0>,\n",
       " <matplotlib.lines.Line2D at 0x14a9712f070>]"
      ]
     },
     "execution_count": 40,
     "metadata": {},
     "output_type": "execute_result"
    },
    {
     "data": {
      "image/png": "[encoded data removed]",
      "text/plain": [
       "<Figure size 432x288 with 1 Axes>"
      ]
     },
     "metadata": {
      "needs_background": "light"
     },
     "output_type": "display_data"
    }
   ],
   "source": [
    "plt.plot(T)"
   ]
  },
  {
   "cell_type": "code",
   "execution_count": 41,
   "id": "cfcc4454",
   "metadata": {
    "scrolled": false
   },
   "outputs": [
    {
     "name": "stderr",
     "output_type": "stream",
     "text": [
      "MovieWriter PillowWriter unavailable; using Pillow instead.\n"
     ]
    },
    {
     "data": {
      "image/png": "[encoded data removed]",
      "text/plain": [
       "<Figure size 432x288 with 2 Axes>"
      ]
     },
     "metadata": {
      "needs_background": "light"
     },
     "output_type": "display_data"
    }
   ],
   "source": [
    "fig, ax = plt.subplots()\n",
    "\n",
    "plt.xlabel(\"Nodos en x\")\n",
    "\n",
    "def animate(frames):\n",
    "    a=T[frames,:]\n",
    "    a=np.expand_dims(a,axis=0)\n",
    "    plt.clf()\n",
    "    b=str(frames)\n",
    "    plt.title('frames:%i' %(frames))\n",
    "    plt.imshow(a,cmap='jet')\n",
    "    plt.clim(25,100)\n",
    "    plt.colorbar(shrink=0.5)\n",
    "    \n",
    "    return plt\n",
    "    \n",
    "\n",
    "anim=animation.FuncAnimation(fig,animate,frames=len(T),interval=200,repeat=False)\n",
    "anim.save(\"heat_equation_solution.gif\",writer='PillowWriter')\n"
   ]
  },
  {
   "cell_type": "code",
   "execution_count": null,
   "id": "5da1dcad",
   "metadata": {},
   "outputs": [],
   "source": []
  }
 ],
 "metadata": {
  "interpreter": {
   "hash": "072ad36937c62cbc852e7e4d0295626408b5e0ae5393d618b7fe62a7df934a00"
  },
  "kernelspec": {
   "display_name": "Python 3.9.7 64-bit",
   "name": "python3"
  },
  "language_info": {
   "codemirror_mode": {
    "name": "ipython",
    "version": 3
   },
   "file_extension": ".py",
   "mimetype": "text/x-python",
   "name": "python",
   "nbconvert_exporter": "python",
   "pygments_lexer": "ipython3",
   "version": "3.9.7"
  }
 },
 "nbformat": 4,
 "nbformat_minor": 5
}
